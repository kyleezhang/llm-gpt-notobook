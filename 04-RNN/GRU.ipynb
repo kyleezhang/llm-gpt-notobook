{
 "cells": [
  {
   "cell_type": "code",
   "id": "initial_id",
   "metadata": {
    "collapsed": true,
    "ExecuteTime": {
     "end_time": "2025-07-07T02:46:44.452080Z",
     "start_time": "2025-07-07T02:46:44.449286Z"
    }
   },
   "source": [
    "sentence = \"我 喜欢 学习 深度 学习\"\n",
    "words = sentence.split()\n",
    "word2idx = {word: idx for idx, word in enumerate(set(words))}\n",
    "idx2word = {idx: word for word, idx in word2idx.items()}\n",
    "vocab_size = len(word2idx)\n",
    "input_seq = [] # 输入词索引\n",
    "target_seq = [] # 目标词索引\n",
    "\n",
    "for i in range(len(words) - 1):\n",
    "    input_seq.append(word2idx[words[i]])\n",
    "    target_seq.append(word2idx[words[i + 1]])\n",
    "\n",
    "print(idx2word, input_seq, target_seq)"
   ],
   "outputs": [
    {
     "name": "stdout",
     "output_type": "stream",
     "text": [
      "{0: '我', 1: '学习', 2: '喜欢', 3: '深度'} [0, 2, 1, 3] [2, 1, 3, 1]\n"
     ]
    }
   ],
   "execution_count": 1
  },
  {
   "metadata": {
    "ExecuteTime": {
     "end_time": "2025-07-07T02:46:46.680949Z",
     "start_time": "2025-07-07T02:46:44.474622Z"
    }
   },
   "cell_type": "code",
   "source": [
    "import torch\n",
    "\n",
    "input_tensor = torch.tensor(input_seq)     # shape: (seq_len,)\n",
    "target_tensor = torch.tensor(target_seq)   # shape: (seq_len,)"
   ],
   "id": "69a7240deffccd7f",
   "outputs": [],
   "execution_count": 2
  },
  {
   "metadata": {
    "ExecuteTime": {
     "end_time": "2025-07-07T02:46:47.546486Z",
     "start_time": "2025-07-07T02:46:46.686122Z"
    }
   },
   "cell_type": "code",
   "source": [
    "import torch\n",
    "import torch.nn as nn\n",
    "\n",
    "class SimpleGRU(nn.Module):\n",
    "    def __init__(self, vocab_size, embedding_dim, hidden_dim):\n",
    "        super(SimpleGRU, self).__init__()\n",
    "        self.embedding = nn.Embedding(vocab_size, embedding_dim)\n",
    "        self.gru = nn.GRU(input_size=embedding_dim, hidden_size=hidden_dim, batch_first=True)\n",
    "        self.fc = nn.Linear(hidden_dim, vocab_size)\n",
    "\n",
    "    def forward(self, x):\n",
    "        x = self.embedding(x)               # shape: (batch, seq_len, embed_dim)\n",
    "        output, h_n = self.gru(x)           # output: (batch, seq_len, hidden_dim)\n",
    "        logits = self.fc(output)            # shape: (batch, seq_len, vocab_size)\n",
    "        return logits\n",
    "\n",
    "input_tensor = input_tensor.unsqueeze(0)     # (1, seq_len)\n",
    "target_tensor = target_tensor.unsqueeze(0)   # (1, seq_len)\n",
    "model = SimpleGRU(vocab_size=vocab_size, embedding_dim=16, hidden_dim=32)\n",
    "loss_fn = nn.CrossEntropyLoss()\n",
    "optimizer = torch.optim.Adam(model.parameters(), lr=0.01)\n",
    "\n",
    "for epoch in range(100):\n",
    "    optimizer.zero_grad()\n",
    "    output = model(input_tensor)\n",
    "\n",
    "    output = output.view(-1, vocab_size)\n",
    "    target = target_tensor.view(-1)\n",
    "\n",
    "    loss = loss_fn(output, target)\n",
    "    loss.backward()\n",
    "    optimizer.step()\n",
    "\n",
    "    if epoch % 10 == 0:\n",
    "        print('Epoch:', '%04d' % (epoch + 1), 'cost =', '{:.6f}'.format(loss))\n"
   ],
   "id": "87ad71e5ce90a976",
   "outputs": [
    {
     "name": "stdout",
     "output_type": "stream",
     "text": [
      "Epoch: 0001 cost = 1.467389\n",
      "Epoch: 0011 cost = 0.194275\n",
      "Epoch: 0021 cost = 0.009332\n",
      "Epoch: 0031 cost = 0.001860\n",
      "Epoch: 0041 cost = 0.000920\n",
      "Epoch: 0051 cost = 0.000670\n",
      "Epoch: 0061 cost = 0.000570\n",
      "Epoch: 0071 cost = 0.000516\n",
      "Epoch: 0081 cost = 0.000480\n",
      "Epoch: 0091 cost = 0.000451\n"
     ]
    }
   ],
   "execution_count": 3
  }
 ],
 "metadata": {
  "kernelspec": {
   "display_name": "Python 3",
   "language": "python",
   "name": "python3"
  },
  "language_info": {
   "codemirror_mode": {
    "name": "ipython",
    "version": 2
   },
   "file_extension": ".py",
   "mimetype": "text/x-python",
   "name": "python",
   "nbconvert_exporter": "python",
   "pygments_lexer": "ipython2",
   "version": "2.7.6"
  }
 },
 "nbformat": 4,
 "nbformat_minor": 5
}
