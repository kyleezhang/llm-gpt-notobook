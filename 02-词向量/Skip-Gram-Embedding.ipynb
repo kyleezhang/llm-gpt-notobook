{
 "cells": [
  {
   "cell_type": "code",
   "id": "initial_id",
   "metadata": {
    "collapsed": true,
    "ExecuteTime": {
     "end_time": "2025-06-03T07:29:13.605242Z",
     "start_time": "2025-06-03T07:29:12.517529Z"
    }
   },
   "source": [
    "from sympy.printing.pytorch import torch\n",
    "\n",
    "# 定义一个句子列表，后面会用这些句子来训练 CBOW 和 Skip-Gram 模型\n",
    "sentences = [\n",
    "    \"Mazong is Boss\",\n",
    "    \"Niuzong is Boss\",\n",
    "    \"Xiaoniu is Worker\",\n",
    "    \"Xiaoma is Worker\"]\n",
    "# 将所有句子连接在一起，然后用空格分隔成多个单词\n",
    "words = ' '.join(sentences).split()\n",
    "# 构建词汇表，去除重复的词\n",
    "word_list = list(set(words))\n",
    "# 创建一个字典，将每个词映射到一个唯一的索引\n",
    "word_to_idx = {word: idx for idx, word in enumerate(word_list)}\n",
    "# 创建一个字典，将每个索引映射到对应的词\n",
    "idx_to_word = {idx: word for idx, word in enumerate(word_list)}\n",
    "voc_size = len(word_list) # 计算词汇表的大小\n",
    "print(\" 词汇表：\", word_list) # 输出词汇表\n",
    "print(\" 词汇到索引的字典：\", word_to_idx) # 输出词汇到索引的字典\n",
    "print(\" 索引到词汇的字典：\", idx_to_word) # 输出索引到词汇的字典\n",
    "print(\" 词汇表大小：\", voc_size) # 输出词汇表大小"
   ],
   "outputs": [
    {
     "name": "stdout",
     "output_type": "stream",
     "text": [
      " 词汇表： ['is', 'Mazong', 'Xiaoma', 'Boss', 'Worker', 'Xiaoniu', 'Niuzong']\n",
      " 词汇到索引的字典： {'is': 0, 'Mazong': 1, 'Xiaoma': 2, 'Boss': 3, 'Worker': 4, 'Xiaoniu': 5, 'Niuzong': 6}\n",
      " 索引到词汇的字典： {0: 'is', 1: 'Mazong', 2: 'Xiaoma', 3: 'Boss', 4: 'Worker', 5: 'Xiaoniu', 6: 'Niuzong'}\n",
      " 词汇表大小： 7\n"
     ]
    }
   ],
   "execution_count": 1
  },
  {
   "metadata": {
    "ExecuteTime": {
     "end_time": "2025-06-03T07:29:13.616738Z",
     "start_time": "2025-06-03T07:29:13.610660Z"
    }
   },
   "cell_type": "code",
   "source": [
    "# 生成 Skip-Gram 训练数据\n",
    "def create_skipgram_dataset(sentences, window_size=2):\n",
    "    data = [] # 初始化数据\n",
    "    for sentence in sentences: # 遍历句子\n",
    "        sentence = sentence.split()  # 将句子分割成单词列表\n",
    "        for idx, word in enumerate(sentence):  # 遍历单词及其索引\n",
    "            # 获取相邻的单词，将当前单词前后各 N 个单词作为相邻单词\n",
    "            for neighbor in sentence[max(idx - window_size, 0):\n",
    "                        min(idx + window_size + 1, len(sentence))]:\n",
    "                if neighbor != word:  # 排除当前单词本身\n",
    "                    # 将相邻单词与当前单词作为一组训练数据\n",
    "                    # data.append((neighbor, word))\n",
    "                    data.append((word, neighbor))\n",
    "    return data\n",
    "# 使用函数创建 Skip-Gram 训练数据\n",
    "skipgram_data = create_skipgram_dataset(sentences)\n",
    "# 打印未编码的 Skip-Gram 数据样例（前 3 个）\n",
    "print(\"Skip-Gram 数据样例（未编码）：\", skipgram_data)"
   ],
   "id": "64f723024c20ff6c",
   "outputs": [
    {
     "name": "stdout",
     "output_type": "stream",
     "text": [
      "Skip-Gram 数据样例（未编码）： [('Mazong', 'is'), ('Mazong', 'Boss'), ('is', 'Mazong'), ('is', 'Boss'), ('Boss', 'Mazong'), ('Boss', 'is'), ('Niuzong', 'is'), ('Niuzong', 'Boss'), ('is', 'Niuzong'), ('is', 'Boss'), ('Boss', 'Niuzong'), ('Boss', 'is'), ('Xiaoniu', 'is'), ('Xiaoniu', 'Worker'), ('is', 'Xiaoniu'), ('is', 'Worker'), ('Worker', 'Xiaoniu'), ('Worker', 'is'), ('Xiaoma', 'is'), ('Xiaoma', 'Worker'), ('is', 'Xiaoma'), ('is', 'Worker'), ('Worker', 'Xiaoma'), ('Worker', 'is')]\n"
     ]
    }
   ],
   "execution_count": 2
  },
  {
   "metadata": {
    "ExecuteTime": {
     "end_time": "2025-06-03T07:29:13.738137Z",
     "start_time": "2025-06-03T07:29:13.733560Z"
    }
   },
   "cell_type": "code",
   "source": [
    "# 定义 Skip-Gram 类\n",
    "import torch.nn as nn # 导入 neural network\n",
    "class SkipGram(nn.Module):\n",
    "    def __init__(self, voc_size, embedding_size):\n",
    "        super(SkipGram, self).__init__()\n",
    "        # 从词汇表大小到隐藏层大小（维度）的线性层（权重矩阵）\n",
    "        self.input_to_hidden = nn.Embedding(voc_size, embedding_size)\n",
    "        # 从隐藏层大小（维度）到词汇表大小的线性层（权重矩阵）\n",
    "        self.hidden_to_output = nn.Linear(embedding_size, voc_size, bias=False)\n",
    "    def forward(self, X): # 前向传播的方式，X 形状为 (batch_size, voc_size)\n",
    "         # 通过隐藏层，hidden 形状为 (batch_size, embedding_size)\n",
    "         hidden = self.input_to_hidden(X)\n",
    "         # 通过输出层，output_layer 形状为 (batch_size, voc_size)\n",
    "         output = self.hidden_to_output(hidden)\n",
    "         return output\n",
    "embedding_size = 2 # 设定嵌入层的大小，这里选择 2 是为了方便展示\n",
    "skipgram_model = SkipGram(voc_size, embedding_size)  # 实例化 Skip-Gram 模型\n",
    "print(\"Skip-Gram 模型：\", skipgram_model)"
   ],
   "id": "6d6c445d07efb1fb",
   "outputs": [
    {
     "name": "stdout",
     "output_type": "stream",
     "text": [
      "Skip-Gram 模型： SkipGram(\n",
      "  (input_to_hidden): Embedding(7, 2)\n",
      "  (hidden_to_output): Linear(in_features=2, out_features=7, bias=False)\n",
      ")\n"
     ]
    }
   ],
   "execution_count": 3
  },
  {
   "metadata": {
    "ExecuteTime": {
     "end_time": "2025-06-03T07:29:15.789600Z",
     "start_time": "2025-06-03T07:29:13.777426Z"
    }
   },
   "cell_type": "code",
   "source": [
    "# 训练 Skip-Gram 类\n",
    "learning_rate = 0.001 # 设置学习速率\n",
    "epochs = 1000 # 设置训练轮次\n",
    "criterion = nn.CrossEntropyLoss()  # 定义交叉熵损失函数\n",
    "import torch.optim as optim # 导入随机梯度下降优化器\n",
    "optimizer = optim.SGD(skipgram_model.parameters(), lr=learning_rate)\n",
    "# 开始训练循环\n",
    "loss_values = []  # 用于存储每轮的平均损失值\n",
    "for epoch in range(epochs):\n",
    "    loss_sum = 0 # 初始化损失值\n",
    "    # for context, target in skipgram_data:\n",
    "    for center_word, context in skipgram_data:\n",
    "        X = torch.tensor([word_to_idx[center_word]], dtype=torch.long) # 将中心词转换为 One-Hot 向量\n",
    "        y_true = torch.tensor([word_to_idx[context]], dtype=torch.long) # 将周围词转换为索引值\n",
    "        y_pred = skipgram_model(X)  # 计算预测值\n",
    "        loss = criterion(y_pred, y_true)  # 计算损失\n",
    "        loss_sum += loss.item() # 累积损失\n",
    "        optimizer.zero_grad()  # 清空梯度\n",
    "        loss.backward()  # 反向传播\n",
    "        optimizer.step()  # 更新参数\n",
    "    if (epoch+1) % 100 == 0: # 输出每 100 轮的损失，并记录损失\n",
    "      print(f\"Epoch: {epoch+1}, Loss: {loss_sum/len(skipgram_data)}\")\n",
    "      loss_values.append(loss_sum / len(skipgram_data))\n",
    "# 绘制训练损失曲线\n",
    "import matplotlib.pyplot as plt # 导入 matplotlib\n",
    "# 绘制二维词向量图\n",
    "plt.rcParams[\"font.family\"]=['SimHei'] # 用来设定字体样式\n",
    "plt.rcParams['font.sans-serif']=['SimHei'] # 用来设定无衬线字体样式\n",
    "plt.rcParams['axes.unicode_minus']=False # 用来正常显示负号\n",
    "plt.plot(range(1, epochs//100 + 1), loss_values) # 绘图\n",
    "plt.title(' 训练损失曲线 ') # 图题\n",
    "plt.xlabel(' 轮次 ') # X 轴 Label\n",
    "plt.ylabel(' 损失 ') # Y 轴 Label\n",
    "plt.show() # 显示图"
   ],
   "id": "f5b4e1fae22dc9f1",
   "outputs": [
    {
     "name": "stdout",
     "output_type": "stream",
     "text": [
      "Epoch: 100, Loss: 1.8328618357578914\n",
      "Epoch: 200, Loss: 1.7636273453632991\n",
      "Epoch: 300, Loss: 1.711038962006569\n",
      "Epoch: 400, Loss: 1.6685392533739407\n",
      "Epoch: 500, Loss: 1.635159137348334\n",
      "Epoch: 600, Loss: 1.609607773522536\n",
      "Epoch: 700, Loss: 1.5893662547071774\n",
      "Epoch: 800, Loss: 1.5722769473989804\n",
      "Epoch: 900, Loss: 1.557189407447974\n",
      "Epoch: 1000, Loss: 1.5436169107755024\n"
     ]
    },
    {
     "data": {
      "text/plain": [
       "<Figure size 640x480 with 1 Axes>"
      ],
      "image/png": "[encoded data removed]"
     },
     "metadata": {},
     "output_type": "display_data"
    }
   ],
   "execution_count": 4
  },
  {
   "metadata": {
    "ExecuteTime": {
     "end_time": "2025-06-03T07:30:38.610173Z",
     "start_time": "2025-06-03T07:30:38.606595Z"
    }
   },
   "cell_type": "code",
   "source": [
    "# 输出 Skip-Gram 习得的词嵌入\n",
    "print(\"Skip-Gram 词嵌入：\")\n",
    "for word, idx in word_to_idx.items(): # 输出每个词的嵌入向量\n",
    " print(f\"{word}: {skipgram_model.input_to_hidden.weight[idx].detach().numpy()}\")"
   ],
   "id": "2cf610b8b5328242",
   "outputs": [
    {
     "name": "stdout",
     "output_type": "stream",
     "text": [
      "Skip-Gram 词嵌入：\n",
      "is: [0.391673  1.4357942]\n",
      "Mazong: [ 0.3337033 -0.9289578]\n",
      "Xiaoma: [ 0.21118625 -0.8690738 ]\n",
      "Boss: [-1.8066648  -0.79125726]\n",
      "Worker: [ 0.87412363 -1.3688787 ]\n",
      "Xiaoniu: [ 0.37941092 -0.2015772 ]\n",
      "Niuzong: [ 0.77720994 -1.4386889 ]\n"
     ]
    }
   ],
   "execution_count": 6
  }
 ],
 "metadata": {
  "kernelspec": {
   "display_name": "Python 3",
   "language": "python",
   "name": "python3"
  },
  "language_info": {
   "codemirror_mode": {
    "name": "ipython",
    "version": 2
   },
   "file_extension": ".py",
   "mimetype": "text/x-python",
   "name": "python",
   "nbconvert_exporter": "python",
   "pygments_lexer": "ipython2",
   "version": "2.7.6"
  }
 },
 "nbformat": 4,
 "nbformat_minor": 5
}
