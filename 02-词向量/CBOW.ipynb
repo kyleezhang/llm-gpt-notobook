{
 "cells": [
  {
   "metadata": {},
   "cell_type": "markdown",
   "source": [
    "# CBOW\n",
    "\n",
    "CBOW模型与Skip-Gram模型相反，其主要任务是根据给定的周围词来预测中心词。"
   ],
   "id": "f8bb04d01f130ede"
  },
  {
   "metadata": {
    "ExecuteTime": {
     "end_time": "2025-06-02T08:57:08.346346Z",
     "start_time": "2025-06-02T08:57:08.342624Z"
    }
   },
   "cell_type": "code",
   "source": [
    "sentences = [\n",
    "    \"Mazong is Boss\",\n",
    "    \"Niuzong is Boss\",\n",
    "    \"Xiaoniu is Worker\",\n",
    "    \"Xiaoma is Worker\"]\n",
    "# 将所有句子连接在一起，然后用空格分隔成多个单词\n",
    "words = ' '.join(sentences).split()\n",
    "# 构建词汇表，去除重复的词\n",
    "word_list = list(set(words))\n",
    "# 创建一个字典，将每个词映射到一个唯一的索引\n",
    "word_to_idx = {word: idx for idx, word in enumerate(word_list)}\n",
    "# 创建一个字典，将每个索引映射到对应的词\n",
    "idx_to_word = {idx: word for idx, word in enumerate(word_list)}\n",
    "voc_size = len(word_list) # 计算词汇表的大小\n",
    "print(\" 词汇表：\", word_list) # 输出词汇表\n",
    "print(\" 词汇到索引的字典：\", word_to_idx) # 输出词汇到索引的字典\n",
    "print(\" 索引到词汇的字典：\", idx_to_word) # 输出索引到词汇的字典\n",
    "print(\" 词汇表大小：\", voc_size) # 输出词汇表大小"
   ],
   "id": "a55a8cf9e2189a29",
   "outputs": [
    {
     "name": "stdout",
     "output_type": "stream",
     "text": [
      " 词汇表： ['Xiaoniu', 'is', 'Niuzong', 'Worker', 'Xiaoma', 'Boss', 'Mazong']\n",
      " 词汇到索引的字典： {'Xiaoniu': 0, 'is': 1, 'Niuzong': 2, 'Worker': 3, 'Xiaoma': 4, 'Boss': 5, 'Mazong': 6}\n",
      " 索引到词汇的字典： {0: 'Xiaoniu', 1: 'is', 2: 'Niuzong', 3: 'Worker', 4: 'Xiaoma', 5: 'Boss', 6: 'Mazong'}\n",
      " 词汇表大小： 7\n"
     ]
    }
   ],
   "execution_count": 1
  },
  {
   "metadata": {
    "ExecuteTime": {
     "end_time": "2025-06-02T09:07:55.827158Z",
     "start_time": "2025-06-02T09:07:55.822435Z"
    }
   },
   "cell_type": "code",
   "source": [
    "# 生成 CBOW 训练数据\n",
    "def create_cbow_dataset(sentences, window_size=2):\n",
    "    data = []# 初始化数据\n",
    "    for sentence in sentences:\n",
    "        sentence = sentence.split()  # 将句子分割成单词列表\n",
    "        for idx, word in enumerate(sentence):  # 遍历单词及其索引\n",
    "            # 获取上下文词汇，将当前单词前后各 window_size 个单词作为周围词\n",
    "            context_words = sentence[max(idx - window_size, 0):idx] \\\n",
    "                + sentence[idx + 1:min(idx + window_size + 1, len(sentence))]\n",
    "            # 将当前单词与上下文词汇作为一组训练数据\n",
    "            data.append((word, context_words))\n",
    "    return data\n",
    "# 使用函数创建 CBOW 训练数据\n",
    "cbow_data = create_cbow_dataset(sentences)\n",
    "# 打印未编码的 CBOW 数据样例\n",
    "print(\"CBOW 数据样例（未编码）：\", cbow_data)"
   ],
   "id": "1bcd736c66b5a594",
   "outputs": [
    {
     "name": "stdout",
     "output_type": "stream",
     "text": [
      "CBOW 数据样例（未编码）： [('Mazong', ['is', 'Boss']), ('is', ['Mazong', 'Boss']), ('Boss', ['Mazong', 'is']), ('Niuzong', ['is', 'Boss']), ('is', ['Niuzong', 'Boss']), ('Boss', ['Niuzong', 'is']), ('Xiaoniu', ['is', 'Worker']), ('is', ['Xiaoniu', 'Worker']), ('Worker', ['Xiaoniu', 'is']), ('Xiaoma', ['is', 'Worker']), ('is', ['Xiaoma', 'Worker']), ('Worker', ['Xiaoma', 'is'])]\n"
     ]
    }
   ],
   "execution_count": 3
  },
  {
   "metadata": {
    "ExecuteTime": {
     "end_time": "2025-06-03T03:19:28.409756Z",
     "start_time": "2025-06-03T03:19:27.199815Z"
    }
   },
   "cell_type": "code",
   "source": [
    "# 定义 One-Hot 编码函数\n",
    "import torch # 导入 torch 库\n",
    "def one_hot_encoding(word, word_to_idx):\n",
    "    tensor = torch.zeros(len(word_to_idx)) # 创建一个长度与词汇表相同的全 0 张量\n",
    "    tensor[word_to_idx[word]] = 1  # 将对应词的索引设为 1\n",
    "    return tensor  # 返回生成的 One-Hot 向量\n",
    "# 展示 One-Hot 编码前后的数据\n",
    "word_example = \"Boss\"\n",
    "print(\"One-Hot 编码前的单词：\", word_example)\n",
    "print(\"One-Hot 编码后的向量：\", one_hot_encoding(word_example, word_to_idx))"
   ],
   "id": "6709814f96eb543d",
   "outputs": [
    {
     "name": "stdout",
     "output_type": "stream",
     "text": [
      "One-Hot 编码前的单词： Boss\n",
      "One-Hot 编码后的向量： tensor([0., 0., 0., 0., 0., 1., 0.])\n"
     ]
    }
   ],
   "execution_count": 4
  },
  {
   "metadata": {
    "ExecuteTime": {
     "end_time": "2025-06-03T06:44:27.444175Z",
     "start_time": "2025-06-03T06:44:27.417402Z"
    }
   },
   "cell_type": "code",
   "source": [
    "# 定义 CBOW 模型\n",
    "import torch.nn as nn # 导入 neural network\n",
    "class CBOW(nn.Module):\n",
    "    def __init__(self, voc_size, embedding_size):\n",
    "        super(CBOW, self).__init__()\n",
    "        # 从词汇表大小到嵌入大小的线性层（权重矩阵）\n",
    "        self.input_to_hidden = nn.Linear(voc_size,\n",
    "                                         embedding_size, bias=False)\n",
    "        # 从嵌入大小到词汇表大小的线性层（权重矩阵）\n",
    "        self.hidden_to_output = nn.Linear(embedding_size,\n",
    "                                          voc_size, bias=False)\n",
    "    def forward(self, X): # X: [num_context_words, voc_size]\n",
    "        # 生成嵌入：[num_context_words, embedding_size]\n",
    "        embeddings = self.input_to_hidden(X)\n",
    "        # 计算隐藏层，求嵌入的均值：[embedding_size]\n",
    "        hidden_layer = torch.mean(embeddings, dim=0)\n",
    "        # 生成输出层：[1, voc_size]\n",
    "        output_layer = self.hidden_to_output(hidden_layer.unsqueeze(0))\n",
    "        return output_layer\n",
    "embedding_size = 2 # 设定嵌入层的大小，这里选择 2 是为了方便展示\n",
    "cbow_model = CBOW(voc_size,embedding_size)  # 实例化 CBOW 模型\n",
    "print(\"CBOW 模型：\", cbow_model)"
   ],
   "id": "8734140a3360ac25",
   "outputs": [
    {
     "name": "stdout",
     "output_type": "stream",
     "text": [
      "CBOW 模型： CBOW(\n",
      "  (input_to_hidden): Linear(in_features=7, out_features=2, bias=False)\n",
      "  (hidden_to_output): Linear(in_features=2, out_features=7, bias=False)\n",
      ")\n"
     ]
    }
   ],
   "execution_count": 5
  },
  {
   "metadata": {
    "ExecuteTime": {
     "end_time": "2025-06-03T06:56:20.092403Z",
     "start_time": "2025-06-03T06:56:18.147402Z"
    }
   },
   "cell_type": "code",
   "source": [
    "learning_rate = 0.001 # 设置学习速率\n",
    "epochs = 1000 # 设置训练轮次\n",
    "criterion = nn.CrossEntropyLoss()  # 定义交叉熵损失函数\n",
    "import torch.optim as optim # 导入随机梯度下降优化器\n",
    "optimizer = optim.SGD(cbow_model.parameters(), lr=learning_rate)\n",
    "# 开始训练循环\n",
    "loss_values = []  # 用于存储每轮的平均损失值\n",
    "for epoch in range(epochs):\n",
    "    loss_sum = 0 # 初始化损失值\n",
    "    for target, context_words in cbow_data:\n",
    "        # 将上下文词转换为 One-Hot 向量并堆叠\n",
    "        X = torch.stack([one_hot_encoding(word, word_to_idx) for word in context_words]).float()\n",
    "        # 将目标词转换为索引值\n",
    "        y_true = torch.tensor([word_to_idx[target]], dtype=torch.long)\n",
    "        y_pred = cbow_model(X)  # 计算预测值\n",
    "        loss = criterion(y_pred, y_true)  # 计算损失\n",
    "        loss_sum += loss.item() # 累积损失\n",
    "        optimizer.zero_grad()  # 清空梯度\n",
    "        loss.backward()  # 反向传播\n",
    "        optimizer.step()  # 更新参数\n",
    "    if (epoch+1) % 100 == 0: # 输出每 100 轮的损失，并记录损失\n",
    "      print(f\"Epoch: {epoch+1}, Loss: {loss_sum/len(cbow_data)}\")\n",
    "      loss_values.append(loss_sum / len(cbow_data))\n",
    "# 绘制训练损失曲线\n",
    "import matplotlib.pyplot as plt # 导入 matplotlib\n",
    "# 绘制二维词向量图\n",
    "plt.rcParams[\"font.family\"]=['SimHei'] # 用来设定字体样式\n",
    "plt.rcParams['font.sans-serif']=['SimHei'] # 用来设定无衬线字体样式\n",
    "plt.rcParams['axes.unicode_minus']=False # 用来正常显示负号\n",
    "plt.plot(range(1, epochs//100 + 1), loss_values) # 绘图\n",
    "plt.title(' 训练损失曲线 ') # 图题\n",
    "plt.xlabel(' 轮次 ') # X 轴 Label\n",
    "plt.ylabel(' 损失 ') # Y"
   ],
   "id": "db541a156ac40354",
   "outputs": [
    {
     "name": "stdout",
     "output_type": "stream",
     "text": [
      "Epoch: 100, Loss: 1.9373655021190643\n",
      "Epoch: 200, Loss: 1.9209599991639454\n",
      "Epoch: 300, Loss: 1.9037179152170818\n",
      "Epoch: 400, Loss: 1.8845533231894176\n",
      "Epoch: 500, Loss: 1.8623665670553844\n",
      "Epoch: 600, Loss: 1.8360206385453541\n",
      "Epoch: 700, Loss: 1.80436576406161\n",
      "Epoch: 800, Loss: 1.7663360834121704\n",
      "Epoch: 900, Loss: 1.7211458186308544\n",
      "Epoch: 1000, Loss: 1.6685955325762432\n"
     ]
    },
    {
     "data": {
      "text/plain": [
       "Text(0, 0.5, ' 损失 ')"
      ]
     },
     "execution_count": 6,
     "metadata": {},
     "output_type": "execute_result"
    },
    {
     "data": {
      "text/plain": [
       "<Figure size 640x480 with 1 Axes>"
      ],
      "image/png": "[encoded data removed]"
     },
     "metadata": {},
     "output_type": "display_data"
    }
   ],
   "execution_count": 6
  },
  {
   "metadata": {
    "ExecuteTime": {
     "end_time": "2025-06-03T06:59:08.669314Z",
     "start_time": "2025-06-03T06:59:08.663853Z"
    }
   },
   "cell_type": "code",
   "source": [
    "# 输出 CBOW 习得的词嵌入\n",
    "print(\"CBOW 词嵌入：\")\n",
    "for word, idx in word_to_idx.items(): # 输出每个词的嵌入向量\n",
    " print(f\"{word}: {cbow_model.input_to_hidden.weight[:,idx].detach().numpy()}\")"
   ],
   "id": "eed2614665c1eb90",
   "outputs": [
    {
     "name": "stdout",
     "output_type": "stream",
     "text": [
      "CBOW 词嵌入：\n",
      "Xiaoniu: [0.44538912 0.18468097]\n",
      "is: [-0.8403361   0.16707343]\n",
      "Niuzong: [0.2224674  0.43625876]\n",
      "Worker: [1.0149107  0.17956404]\n",
      "Xiaoma: [0.2299125  0.35326132]\n",
      "Boss: [0.16271278 0.34884444]\n",
      "Mazong: [-0.05343215  0.445842  ]\n"
     ]
    }
   ],
   "execution_count": 7
  }
 ],
 "metadata": {
  "kernelspec": {
   "display_name": "Python 3",
   "language": "python",
   "name": "python3"
  },
  "language_info": {
   "codemirror_mode": {
    "name": "ipython",
    "version": 2
   },
   "file_extension": ".py",
   "mimetype": "text/x-python",
   "name": "python",
   "nbconvert_exporter": "python",
   "pygments_lexer": "ipython2",
   "version": "2.7.6"
  }
 },
 "nbformat": 4,
 "nbformat_minor": 5
}
