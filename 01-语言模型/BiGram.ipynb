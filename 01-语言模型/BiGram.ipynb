{
 "cells": [
  {
   "metadata": {},
   "cell_type": "markdown",
   "source": [
    "# N-Gram\n",
    "\n",
    "在N-Gram模型中，我们通过将文本分割成连续的N个词的组合（即N-Gram），通过计算N个词的联合概率来预测下一个词，可以说是最早的语言模型，当然，也是一种统计方法。\n"
   ],
   "id": "8a77807f92f26ee"
  },
  {
   "metadata": {
    "ExecuteTime": {
     "end_time": "2025-05-20T08:20:17.419739Z",
     "start_time": "2025-05-20T08:20:17.417502Z"
    }
   },
   "cell_type": "code",
   "source": [
    "# 构建一个玩具数据集\n",
    "corpus = [ \"我喜欢吃苹果\",\n",
    "        \"我喜欢吃香蕉\",\n",
    "        \"她喜欢吃葡萄\",\n",
    "        \"他不喜欢吃香蕉\",\n",
    "        \"他喜欢吃苹果\",\n",
    "        \"她喜欢吃草莓\"]"
   ],
   "id": "fbc121e30a2defb3",
   "outputs": [],
   "execution_count": 1
  },
  {
   "metadata": {
    "ExecuteTime": {
     "end_time": "2025-05-20T08:23:43.926053Z",
     "start_time": "2025-05-20T08:23:43.920138Z"
    }
   },
   "cell_type": "code",
   "source": [
    "# 定义一个分词函数将文本转换为单个字符的列表\n",
    "def tokenize(text):\n",
    "        return [char for char in text]\n",
    "print(\"单字列表：\")\n",
    "for text in corpus:\n",
    "    tokens = tokenize(text)\n",
    "    print(tokens)"
   ],
   "id": "9e70558f016fb6c0",
   "outputs": [
    {
     "name": "stdout",
     "output_type": "stream",
     "text": [
      "单字列表：\n",
      "['我', '喜', '欢', '吃', '苹', '果']\n",
      "['我', '喜', '欢', '吃', '香', '蕉']\n",
      "['她', '喜', '欢', '吃', '葡', '萄']\n",
      "['他', '不', '喜', '欢', '吃', '香', '蕉']\n",
      "['他', '喜', '欢', '吃', '苹', '果']\n",
      "['她', '喜', '欢', '吃', '草', '莓']\n"
     ]
    }
   ],
   "execution_count": 2
  },
  {
   "metadata": {
    "ExecuteTime": {
     "end_time": "2025-05-20T08:39:13.624155Z",
     "start_time": "2025-05-20T08:39:13.615587Z"
    }
   },
   "cell_type": "code",
   "source": [
    "# 定义计算 N-Gram 词频的函数\n",
    "from collections import defaultdict, Counter\n",
    "def count_ngrams(corpus, n):\n",
    "    ngrams_count = defaultdict(Counter) # 创建一个字典，存储 N-Gram 计数\n",
    "    for text in corpus:\n",
    "        tokens = tokenize(text) # 对文本进行分词\n",
    "        for i in range(len(tokens) -n + 1): # 遍历分词结果，生成 N-Gram\n",
    "            ngram = tuple(tokens[i:i+n]) # 创建一个 N-Gram 元组\n",
    "            prefix = ngram[:-1] # 获取 N-Gram 的前缀\n",
    "            token = ngram[-1] # 获取 N-Gram 的目标单字\n",
    "            ngrams_count[prefix][token] += 1 # 更新 N-Gram 计数\n",
    "    return ngrams_count\n",
    "bigram_counts = count_ngrams(corpus, 2) # 计算 bigram 词频\n",
    "print(\"bigram 词频：\")\n",
    "for prefix, counts in bigram_counts.items():\n",
    "    print(\"{}: {}\".format(\"\".join(prefix), dict(counts)))"
   ],
   "id": "9a74b021860a6ff6",
   "outputs": [
    {
     "name": "stdout",
     "output_type": "stream",
     "text": [
      "bigram 词频：\n",
      "我: {'喜': 2}\n",
      "喜: {'欢': 6}\n",
      "欢: {'吃': 6}\n",
      "吃: {'苹': 2, '香': 2, '葡': 1, '草': 1}\n",
      "苹: {'果': 2}\n",
      "香: {'蕉': 2}\n",
      "她: {'喜': 2}\n",
      "葡: {'萄': 1}\n",
      "他: {'不': 1, '喜': 1}\n",
      "不: {'喜': 1}\n",
      "草: {'莓': 1}\n"
     ]
    }
   ],
   "execution_count": 3
  },
  {
   "metadata": {
    "ExecuteTime": {
     "end_time": "2025-05-20T08:42:22.696107Z",
     "start_time": "2025-05-20T08:42:22.692483Z"
    }
   },
   "cell_type": "code",
   "source": [
    "# 定义计算 N-Gram 出现概率的函数\n",
    "def ngram_probabilities(ngram_counts):\n",
    " ngram_probs = defaultdict(Counter) # 创建一个字典，存储 N-Gram 出现的概率\n",
    " for prefix, tokens_count in ngram_counts.items(): # 遍历 N-Gram 前缀\n",
    "     total_count = sum(tokens_count.values()) # 计算当前前缀的 N-Gram 计数\n",
    "     for token, count in tokens_count.items(): # 遍历每个前缀的 N-Gram\n",
    "         ngram_probs[prefix][token] = count / total_count # 计算每个 N-Gram 出现的概率\n",
    " return ngram_probs\n",
    "bigram_probs = ngram_probabilities(bigram_counts) # 计算 bigram 出现的概率\n",
    "print(\"\\nbigram 出现的概率 :\") # 打印 bigram 概率\n",
    "for prefix, probs in bigram_probs.items():\n",
    " print(\"{}: {}\".format(\"\".join(prefix), dict(probs)))"
   ],
   "id": "829184b03d0c4df1",
   "outputs": [
    {
     "name": "stdout",
     "output_type": "stream",
     "text": [
      "\n",
      "bigram 出现的概率 :\n",
      "我: {'喜': 1.0}\n",
      "喜: {'欢': 1.0}\n",
      "欢: {'吃': 1.0}\n",
      "吃: {'苹': 0.3333333333333333, '香': 0.3333333333333333, '葡': 0.16666666666666666, '草': 0.16666666666666666}\n",
      "苹: {'果': 1.0}\n",
      "香: {'蕉': 1.0}\n",
      "她: {'喜': 1.0}\n",
      "葡: {'萄': 1.0}\n",
      "他: {'不': 0.5, '喜': 0.5}\n",
      "不: {'喜': 1.0}\n",
      "草: {'莓': 1.0}\n"
     ]
    }
   ],
   "execution_count": 4
  },
  {
   "metadata": {
    "ExecuteTime": {
     "end_time": "2025-05-20T08:44:02.325525Z",
     "start_time": "2025-05-20T08:44:02.323045Z"
    }
   },
   "cell_type": "code",
   "source": [
    "# 定义生成下一个词的函数\n",
    "def generate_next_token(prefix, ngram_probs):\n",
    " if not prefix in ngram_probs: # 如果前缀不在 N-Gram 中，返回 None\n",
    "    return None\n",
    " next_token_probs = ngram_probs[prefix] # 获取当前前缀的下一个词的概率\n",
    " next_token = max(next_token_probs,\n",
    "                    key=next_token_probs.get) # 选择概率最大的词作为下一个词\n",
    " return next_token"
   ],
   "id": "6eb843ce66565c31",
   "outputs": [],
   "execution_count": 5
  },
  {
   "metadata": {
    "ExecuteTime": {
     "end_time": "2025-05-20T08:46:52.005998Z",
     "start_time": "2025-05-20T08:46:52.000591Z"
    }
   },
   "cell_type": "code",
   "source": [
    "# 定义生成连续文本的函数\n",
    "def generate_text(prefix, ngram_probs, n, length=6):\n",
    " tokens = list(prefix) # 将前缀转换为字符列表\n",
    " for _ in range(length - len(prefix)): # 根据指定长度生成文本\n",
    "     # 获取当前前缀的下一个词\n",
    "     next_token = generate_next_token(tuple(tokens[-(n-1):]), ngram_probs)\n",
    "     if not next_token: # 如果下一个词为 None，跳出循环\n",
    "         break\n",
    "     tokens.append(next_token) # 将下一个词添加到生成的文本中\n",
    " return \"\".join(tokens) # 将字符列表连接成字符串"
   ],
   "id": "2479b68ee4f17f14",
   "outputs": [],
   "execution_count": 6
  },
  {
   "metadata": {
    "ExecuteTime": {
     "end_time": "2025-05-20T08:47:04.352859Z",
     "start_time": "2025-05-20T08:47:04.350154Z"
    }
   },
   "cell_type": "code",
   "source": [
    "# 输入一个前缀，生成文本\n",
    "generated_text = generate_text(\"我\", bigram_probs, 2)\n",
    "print(\"\\n 生成的文本：\", generated_text) # 打印生成的文本"
   ],
   "id": "5a527bb816d2315",
   "outputs": [
    {
     "name": "stdout",
     "output_type": "stream",
     "text": [
      "\n",
      " 生成的文本： 我喜欢吃苹果\n"
     ]
    }
   ],
   "execution_count": 7
  }
 ],
 "metadata": {
  "kernelspec": {
   "display_name": "Python 3",
   "language": "python",
   "name": "python3"
  },
  "language_info": {
   "codemirror_mode": {
    "name": "ipython",
    "version": 2
   },
   "file_extension": ".py",
   "mimetype": "text/x-python",
   "name": "python",
   "nbconvert_exporter": "python",
   "pygments_lexer": "ipython2",
   "version": "2.7.6"
  }
 },
 "nbformat": 4,
 "nbformat_minor": 5
}
